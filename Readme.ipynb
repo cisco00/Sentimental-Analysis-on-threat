{
 "cells": [
  {
   "cell_type": "markdown",
   "metadata": {},
   "source": [
    "## Sentimental_Analysis"
   ]
  },
  {
   "cell_type": "markdown",
   "metadata": {},
   "source": [
    "### About"
   ]
  },
  {
   "cell_type": "markdown",
   "metadata": {},
   "source": [
    "##### Analysis and Comparison of sentiments from product reviews "
   ]
  },
  {
   "cell_type": "markdown",
   "metadata": {},
   "source": [
    "### Setup"
   ]
  },
  {
   "cell_type": "markdown",
   "metadata": {},
   "source": [
    "    make sure python 3 is installed\n",
    "    Create Virtual Environmet for the project\n",
    "    install jupyter lab\n",
    "    install libraries\n"
   ]
  },
  {
   "cell_type": "markdown",
   "metadata": {},
   "source": [
    "    pandas as pd\n",
    "    numpy as np\n",
    "    nltk\n",
    "    string\n",
    "    Sklearn\n",
    "    Spacy"
   ]
  },
  {
   "cell_type": "markdown",
   "metadata": {},
   "source": [
    "###  Import files"
   ]
  },
  {
   "cell_type": "code",
   "execution_count": 5,
   "metadata": {},
   "outputs": [],
   "source": [
    "import pandas as pd\n",
    "import numpy as np\n",
    "import nltk\n",
    "import string\n",
    "\n",
    "from nltk import word_tokenize\n",
    "from nltk.stem import WordNetLemmatizer\n",
    "from nltk import sent_tokenize, word_tokenize\n",
    "\n",
    "from sklearn.feature_extraction.text import CountVectorizer\n",
    "from sklearn.feature_extraction.text import TfidfVectorizer\n",
    "from sklearn.model_selection import train_test_split\n",
    "from sklearn.model_selection import StratifiedKFold\n",
    "from sklearn.naive_bayes import ComplementNB\n",
    "from sklearn.pipeline import Pipeline\n",
    "\n",
    "from matplotlib import pyplot as plt"
   ]
  },
  {
   "cell_type": "markdown",
   "metadata": {},
   "source": [
    "## Contents"
   ]
  },
  {
   "cell_type": "markdown",
   "metadata": {},
   "source": [
    "    we use three algorithms from the naive bayes model in other to pick the best alroithm we compare the score of the various algorithm which are:"
   ]
  },
  {
   "cell_type": "markdown",
   "metadata": {},
   "source": [
    "## MultinomialNB(Multinomial Naive Bayes)"
   ]
  },
  {
   "cell_type": "markdown",
   "metadata": {},
   "source": [
    "    With CountVectorizer the metrics that were obtain in this algorithm are as follow; Maximum Accurancy: 77.85%, Minimum Accurancy: 70.67, Mean Accurancy: 7.5e+01%, Std accurancy: 2.45%\n",
    "    \n",
    "    with Tfidf the metrics that were obrain in this algorithm are Maximum accuracy: 82.55%, Minimum Accuracy: 75.17%, Mean_accuracy: 78.34%, Std_accuracy: 2.62%\n",
    "    "
   ]
  },
  {
   "cell_type": "markdown",
   "metadata": {},
   "source": [
    "## BernuolliNB(Bernuolli Naive Bayes)"
   ]
  },
  {
   "cell_type": "markdown",
   "metadata": {},
   "source": [
    "    with CountVectorizer the metrics that were achieved are Maximum accuracy: 79.19%, Minimum Accuracy: 71.33%, Mean_accuracy: 75.13%, Std_accuracy: 3.08%\n",
    "    \n",
    "    With Tfidf the metrics that where obtained in this algorithm are; Maximum accuracy: 79.19%, Minimum Accuracy: 71.33%, Mean_accuracy: 75.13%, Std_accuracy: 3.08%"
   ]
  },
  {
   "cell_type": "markdown",
   "metadata": {},
   "source": [
    "## ComplementNB((Multinomial Naive Bayes))"
   ]
  },
  {
   "cell_type": "markdown",
   "metadata": {},
   "source": [
    "    with CountVectorizer the metrics that were obtained are Maximum Accurancy: 78.67%, Minimum Accurancy: 70.67%, Mean Accurancy: 7.4e+01%, Std accurancy: 2.55%\n",
    "    \n",
    "    With Tfidf the metrics that were obtain are Maximum Accurancy: 81.21%, Minimum Accurancy: 75.17%, Mean Accurancy: 7.8e+01%, Std accurancy: 2.13%\n",
    "    "
   ]
  },
  {
   "cell_type": "markdown",
   "metadata": {},
   "source": [
    "## Reference"
   ]
  },
  {
   "cell_type": "markdown",
   "metadata": {},
   "source": [
    "https://github.com/Semicolon-Tech/sentiment_analysis/blob/main/README.md"
   ]
  },
  {
   "cell_type": "code",
   "execution_count": null,
   "metadata": {},
   "outputs": [],
   "source": []
  }
 ],
 "metadata": {
  "kernelspec": {
   "display_name": "Python 3",
   "language": "python",
   "name": "python3"
  },
  "language_info": {
   "codemirror_mode": {
    "name": "ipython",
    "version": 3
   },
   "file_extension": ".py",
   "mimetype": "text/x-python",
   "name": "python",
   "nbconvert_exporter": "python",
   "pygments_lexer": "ipython3",
   "version": "3.8.5"
  }
 },
 "nbformat": 4,
 "nbformat_minor": 4
}
